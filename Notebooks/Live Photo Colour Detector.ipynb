{
 "cells": [
  {
   "cell_type": "code",
   "execution_count": 1,
   "metadata": {},
   "outputs": [],
   "source": [
    "%matplotlib qt\n",
    "import numpy as np\n",
    "import matplotlib.pyplot as plt\n",
    "from matplotlib.animation import FuncAnimation\n",
    "import seaborn as sns\n",
    "import cv2\n",
    "import time"
   ]
  },
  {
   "cell_type": "code",
   "execution_count": 2,
   "metadata": {},
   "outputs": [],
   "source": [
    "custom_image = np.ones((1,1,3), dtype = np.int16)\n",
    "x1,y1 =0,0"
   ]
  },
  {
   "cell_type": "code",
   "execution_count": 3,
   "metadata": {},
   "outputs": [],
   "source": [
    "def color_value(event,x,y,flags,param):\n",
    "    global custom_image,x1,y1\n",
    "    if event == cv2.EVENT_LBUTTONDOWN:\n",
    "        plt.close()\n",
    "        x1,y1 = x,y\n",
    "        custom_image[:,:,0] = img[y,x,2]\n",
    "        custom_image[:,:,1] = img[y,x,1]\n",
    "        custom_image[:,:,2] = img[y,x,0]\n",
    "        plt.imshow(custom_image)\n",
    "    \n",
    "    if event == cv2.EVENT_MOUSEMOVE:\n",
    "        if np.sqrt((x1-x)**2 - (y1-y)**2) > 5:\n",
    "            plt.close()\n",
    "            custom_image[:,:,0] = img[y,x,2]\n",
    "            custom_image[:,:,1] = img[y,x,1]\n",
    "            custom_image[:,:,2] = img[y,x,0]\n",
    "            plt.imshow(custom_image)\n",
    "            x1,y1 = x,y\n",
    "        \n",
    "   "
   ]
  },
  {
   "cell_type": "code",
   "execution_count": 4,
   "metadata": {},
   "outputs": [],
   "source": [
    "img = cv2.imread(\"00-puppy.jpg\")\n",
    "img = cv2.resize(img,(0,0),fx = 0.5, fy = 0.5)\n",
    "# img = cv2.cvtColor(img, cv2.COLOR_BGR2RGB)"
   ]
  },
  {
   "cell_type": "code",
   "execution_count": 5,
   "metadata": {},
   "outputs": [
    {
     "name": "stderr",
     "output_type": "stream",
     "text": [
      "C:\\Users\\himan\\Anaconda3\\lib\\site-packages\\ipykernel_launcher.py:12: RuntimeWarning: invalid value encountered in sqrt\n",
      "  if sys.path[0] == '':\n"
     ]
    }
   ],
   "source": [
    "cv2.namedWindow(winname = \"Drawing\")\n",
    "cv2.setMouseCallback(\"Drawing\", color_value)\n",
    "while True:\n",
    "    cv2.imshow('Drawing',img)\n",
    "    if cv2.waitKey() in (ord('q'), 27):\n",
    "        break\n",
    "cv2.destroyAllWindows()"
   ]
  },
  {
   "cell_type": "code",
   "execution_count": null,
   "metadata": {},
   "outputs": [],
   "source": []
  }
 ],
 "metadata": {
  "kernelspec": {
   "display_name": "Python 3",
   "language": "python",
   "name": "python3"
  },
  "language_info": {
   "codemirror_mode": {
    "name": "ipython",
    "version": 3
   },
   "file_extension": ".py",
   "mimetype": "text/x-python",
   "name": "python",
   "nbconvert_exporter": "python",
   "pygments_lexer": "ipython3",
   "version": "3.7.5"
  }
 },
 "nbformat": 4,
 "nbformat_minor": 4
}
