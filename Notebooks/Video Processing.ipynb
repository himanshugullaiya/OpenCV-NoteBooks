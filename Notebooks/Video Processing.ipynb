{
 "cells": [
  {
   "cell_type": "markdown",
   "metadata": {},
   "source": [
    "Author : Himanshu Gullaiya <br>\n",
    "Source : Pierian Data"
   ]
  },
  {
   "cell_type": "markdown",
   "metadata": {},
   "source": [
    "## USING CAMERA"
   ]
  },
  {
   "cell_type": "code",
   "execution_count": 2,
   "metadata": {},
   "outputs": [],
   "source": [
    "import numpy as np\n",
    "import matplotlib.pyplot as plt\n",
    "import cv2"
   ]
  },
  {
   "cell_type": "code",
   "execution_count": 18,
   "metadata": {},
   "outputs": [],
   "source": [
    "cap = cv2.VideoCapture(\"http://192.168.0.88:8080/video\")\n",
    "\n",
    "width = int(cap.get(cv2.CAP_PROP_FRAME_WIDTH))\n",
    "height = int(cap.get(cv2.CAP_PROP_FRAME_HEIGHT))\n",
    "\n",
    "writer = cv2.VideoWriter('video3.mp4',cv2.VideoWriter_fourcc(*'DIVX'),60,(width,height)) # windows - '*DIVX* / macos or linux - '*XVID'\n",
    "while True:\n",
    "\n",
    "    ret, frame = cap.read()\n",
    "    \n",
    "    #Opeartions (drawing)\n",
    "    writer.write(frame)\n",
    "    \n",
    "    gray = cv2.cvtColor(frame, cv2.COLOR_BGR2GRAY)\n",
    "    cv2.imshow('frame',gray)\n",
    "#     if cv2.waitKey(1) & 0xFF == ord('q'): or below \n",
    "    if cv2.waitKey(1) in (ord('q'),27):\n",
    "        break\n",
    "\n",
    "# When everything done, release the capture and destroy the windows\n",
    "cap.release()\n",
    "writer.release()\n",
    "cv2.destroyAllWindows()"
   ]
  },
  {
   "cell_type": "markdown",
   "metadata": {},
   "source": [
    "## EXISTING VIDEO FILE"
   ]
  },
  {
   "cell_type": "code",
   "execution_count": 25,
   "metadata": {},
   "outputs": [],
   "source": [
    "import time\n",
    "cap = cv2.VideoCapture('video3.mp4')\n",
    "if cap.isOpened() == False:\n",
    "    print(\"Error File Not Found, or wrong codec Used!\")\n",
    "\n",
    "while cap.isOpened():\n",
    "    ret,frame = cap.read()\n",
    "    if ret == True:\n",
    "#         time.sleep(1/20)\n",
    "        cv2.imshow('imshow', frame)\n",
    "        if cv2.waitKey(1) in (ord('q'), 27):\n",
    "            break\n",
    "    else:\n",
    "        break\n",
    "\n",
    "cap.release()\n",
    "cv2.destroyAllWindows()            "
   ]
  },
  {
   "cell_type": "markdown",
   "metadata": {},
   "source": [
    "## Draw on a Video"
   ]
  },
  {
   "cell_type": "code",
   "execution_count": 1,
   "metadata": {},
   "outputs": [],
   "source": [
    "import cv2"
   ]
  },
  {
   "cell_type": "code",
   "execution_count": 11,
   "metadata": {},
   "outputs": [],
   "source": [
    "def draw_rectangle(event,x,y,flags,param):\n",
    "    global first_point_click,second_point_click, pt1, pt2\n",
    "    if event == cv2.EVENT_LBUTTONDOWN:\n",
    "        if first_point_click & second_point_click:\n",
    "            first_point_click = False\n",
    "            second_point_click = False\n",
    "            pt1 = (0,0)\n",
    "            pt2 = (0,0)\n",
    "        \n",
    "        if not first_point_click:\n",
    "            pt1 = x,y\n",
    "            first_point_click = True\n",
    "        \n",
    "        elif not second_point_click:\n",
    "            plt2 = x,y\n",
    "            second_point_click = True"
   ]
  },
  {
   "cell_type": "code",
   "execution_count": 12,
   "metadata": {},
   "outputs": [],
   "source": [
    "first_point_click = False\n",
    "second_point_click = False\n",
    "pt1 = (0,0)\n",
    "pt2 = (0,0)"
   ]
  },
  {
   "cell_type": "code",
   "execution_count": 13,
   "metadata": {},
   "outputs": [],
   "source": [
    "cap  = cv2.VideoCapture('http://192.168.0.88:8080/video')\n",
    "cv2.namedWindow('Test')\n",
    "cv2.setMouseCallback('Test', draw_rectangle) \n",
    "\n",
    "while cap.isOpened():\n",
    "    ret,frame = cap.read()\n",
    "    if first_point_click:\n",
    "        cv2.circle(frame, center=pt1, radius=5, color=(0,0,255), thickness=-1)\n",
    "    if first_point_click & second_point_click:\n",
    "        cv2.rectangle(frame, pt1, pt2, color = (0,0,255), thickness = 2)\n",
    "    cv2.imshow(\"Test\", frame)\n",
    "    if cv2.waitKey(1) in (ord('q'),27):\n",
    "        break\n",
    "cap.release()\n",
    "cv2.destroyAllWindows()"
   ]
  },
  {
   "cell_type": "code",
   "execution_count": null,
   "metadata": {},
   "outputs": [],
   "source": []
  },
  {
   "cell_type": "code",
   "execution_count": null,
   "metadata": {},
   "outputs": [],
   "source": []
  }
 ],
 "metadata": {
  "kernelspec": {
   "display_name": "Python 3",
   "language": "python",
   "name": "python3"
  },
  "language_info": {
   "codemirror_mode": {
    "name": "ipython",
    "version": 3
   },
   "file_extension": ".py",
   "mimetype": "text/x-python",
   "name": "python",
   "nbconvert_exporter": "python",
   "pygments_lexer": "ipython3",
   "version": "3.7.4"
  }
 },
 "nbformat": 4,
 "nbformat_minor": 4
}
